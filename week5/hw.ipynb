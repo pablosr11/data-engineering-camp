{
 "cells": [
  {
   "cell_type": "code",
   "execution_count": 1,
   "metadata": {},
   "outputs": [
    {
     "name": "stderr",
     "output_type": "stream",
     "text": [
      "Setting default log level to \"WARN\".\n",
      "To adjust logging level use sc.setLogLevel(newLevel). For SparkR, use setLogLevel(newLevel).\n",
      "24/02/13 11:38:37 WARN NativeCodeLoader: Unable to load native-hadoop library for your platform... using builtin-java classes where applicable\n"
     ]
    }
   ],
   "source": [
    "from pyspark.sql import SparkSession\n",
    "\n",
    "spark = SparkSession.builder.getOrCreate()"
   ]
  },
  {
   "cell_type": "code",
   "execution_count": 2,
   "metadata": {},
   "outputs": [
    {
     "data": {
      "text/plain": [
       "'3.5.0'"
      ]
     },
     "execution_count": 2,
     "metadata": {},
     "output_type": "execute_result"
    }
   ],
   "source": [
    "#hw5 - q1\n",
    "spark.version"
   ]
  },
  {
   "cell_type": "code",
   "execution_count": 8,
   "metadata": {},
   "outputs": [
    {
     "name": "stderr",
     "output_type": "stream",
     "text": [
      "24/02/13 11:48:04 WARN MemoryManager: Total allocation exceeds 95.00% (1,020,054,720 bytes) of heap memory\n",
      "Scaling row group sizes to 95.00% for 8 writers\n",
      "                                                                                \r"
     ]
    }
   ],
   "source": [
    "# hw5 - q2 -> read files, repartition to 12, write to parquet. whats the rough size of every partition? 25mb.\n",
    "from pyspark.sql import types\n",
    "\n",
    "ROOT_FILE_PATHS = \"\"\n",
    "\n",
    "df = spark.read.csv(ROOT_FILE_PATHS + \"fhvhv_tripdata_2021-06.csv\", header=True)\n",
    "df.repartition(12).write.mode(\"overwrite\").parquet(ROOT_FILE_PATHS + \"fhvhv_tripdata_2021-06/\")"
   ]
  },
  {
   "cell_type": "code",
   "execution_count": 16,
   "metadata": {},
   "outputs": [
    {
     "name": "stderr",
     "output_type": "stream",
     "text": [
      "                                                                                \r"
     ]
    },
    {
     "data": {
      "text/plain": [
       "452470"
      ]
     },
     "execution_count": 16,
     "metadata": {},
     "output_type": "execute_result"
    }
   ],
   "source": [
    "# hw5 - q3 -> how many taxis on June 15.  -> 45\n",
    "df \\\n",
    ".filter(df[\"pickup_datetime\"].between(\"2021-06-15 00:00:00\", \"2021-06-15 23:59:59\")) \\\n",
    ".count()"
   ]
  },
  {
   "cell_type": "code",
   "execution_count": 54,
   "metadata": {},
   "outputs": [
    {
     "name": "stderr",
     "output_type": "stream",
     "text": [
      "                                                                                \r"
     ]
    },
    {
     "data": {
      "text/plain": [
       "66.8788888888889"
      ]
     },
     "execution_count": 54,
     "metadata": {},
     "output_type": "execute_result"
    }
   ],
   "source": [
    "# hw5 - q4 -> How long was the longest trip in Hours? -> 66 hours\n",
    "import datetime\n",
    "\n",
    "df = df.withColumn(\"trip_duration\", df[\"dropoff_datetime\"].cast(types.TimestampType()) - df[\"pickup_datetime\"].cast(types.TimestampType()))\n",
    "df.selectExpr(\"max(trip_duration) as max_trip_duration\").collect()[0][\"max_trip_duration\"] / datetime.timedelta(hours=1)"
   ]
  },
  {
   "cell_type": "code",
   "execution_count": null,
   "metadata": {},
   "outputs": [],
   "source": [
    "# hw5 - q5 - Spark’s User Interface which shows application's dashboard runs on which local port? -> 4040\n"
   ]
  }
 ],
 "metadata": {
  "kernelspec": {
   "display_name": ".venv",
   "language": "python",
   "name": "python3"
  },
  "language_info": {
   "codemirror_mode": {
    "name": "ipython",
    "version": 3
   },
   "file_extension": ".py",
   "mimetype": "text/x-python",
   "name": "python",
   "nbconvert_exporter": "python",
   "pygments_lexer": "ipython3",
   "version": "3.11.6"
  }
 },
 "nbformat": 4,
 "nbformat_minor": 2
}
